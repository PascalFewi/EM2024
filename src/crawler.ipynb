{
 "cells": [
  {
   "cell_type": "code",
   "execution_count": 59,
   "metadata": {},
   "outputs": [],
   "source": [
    "from bs4 import BeautifulSoup\n",
    "import time\n",
    "from selenium import webdriver\n",
    "from selenium.webdriver.chrome.service import Service\n",
    "from selenium.webdriver.common.by import By\n",
    "import pandas as pd"
   ]
  },
  {
   "cell_type": "code",
   "execution_count": 60,
   "metadata": {},
   "outputs": [],
   "source": [
    "def get_game(url):\n",
    "    bets = []\n",
    "    service = Service(executable_path=\"chromedriver.exe\")\n",
    "    driver = webdriver.Chrome(service=service)\n",
    "    driver.get(url)\n",
    "    html_content = driver.page_source\n",
    "    soup = BeautifulSoup(html_content, 'html.parser')\n",
    "    game_title = soup.find('span', class_='o_match-title').text.strip()\n",
    "    time.sleep(8)  \n",
    "   \n",
    "    accordion_button = driver.find_element(By.XPATH, \"//button[@class='o_accordion-item__trigger']//span[contains(text(), 'Genaues Ergebnis')]\")\n",
    "    accordion_button.click()\n",
    "\n",
    "    time.sleep(2)  \n",
    "\n",
    "    # Get the page source and parse it with BeautifulSoup\n",
    "\n",
    "\n",
    "    # Find the parent accordion item of the clicked button\n",
    "    accordion_item = accordion_button.find_element(By.XPATH, \"./ancestor::div[contains(@class, 'o_accordion-item')]\")\n",
    "\n",
    "    # Ensure the accordion item is expanded\n",
    "    if 'o_accordion-item--expanded' in accordion_item.get_attribute('class'):\n",
    "        # Find the corresponding panel within the expanded accordion item\n",
    "        panel = accordion_item.find_element(By.CLASS_NAME, 'o_accordion-item__panel')\n",
    "\n",
    "        # Get the HTML content of the panel and parse it with BeautifulSoup\n",
    "        panel_html_content = panel.get_attribute('innerHTML')\n",
    "        panel_soup = BeautifulSoup(panel_html_content, 'html.parser')\n",
    "\n",
    "        # Locate the specific bet item section with the header \"Genaues Resultat (reg.Spielzeit)\"\n",
    "        bet_items_section = panel_soup.find_all('div', class_='o_bet-item')\n",
    "\n",
    "        for section in bet_items_section:\n",
    "            header = section.find('div', class_='o_bet-item__header').text.strip()\n",
    "            if \"Genaues Resultat (reg.Spielzeit)\" in header:\n",
    "                # Extract all bet items within this section\n",
    "                bet_items = section.find('div', class_='o_bet-item__content ng-star-inserted').find_all('button', class_='m_bet-button')\n",
    "                for item in bet_items:\n",
    "                    name = item.find('span', class_='m_bet-button__name').text.strip()\n",
    "                    odds = item.find('span', class_='m_bet-button__odds-text').text.strip()\n",
    "                    bets.append((name, odds))\n",
    "                break  # Exit after finding the correct section to avoid processing further\n",
    "    else:\n",
    "        print(\"Accordion item is not expanded.\")\n",
    "    \n",
    "\n",
    "    # Get the page source and parse it with BeautifulSoup\n",
    "    html_content = driver.page_source\n",
    "    soup = BeautifulSoup(html_content, 'html.parser')\n",
    "    output = soup.find_all('span', class_='o_bet-item__content ng-star-inserted')\n",
    "    for content in output:\n",
    "        print(content.text)\n",
    "\n",
    "    # Close the WebDriver\n",
    "    driver.quit()\n",
    "    return bets,game_title\n",
    "    "
   ]
  },
  {
   "cell_type": "code",
   "execution_count": 61,
   "metadata": {},
   "outputs": [],
   "source": [
    "all_games = []\n",
    "with open('list_urls.txt', 'r') as file:\n",
    "    all_games = [line.strip() for line in file.readlines()]"
   ]
  },
  {
   "cell_type": "code",
   "execution_count": 71,
   "metadata": {},
   "outputs": [],
   "source": [
    "all_bets_data = []\n",
    "\n",
    "for game_url in all_games:\n",
    "    bets = []\n",
    "    game_title = \"\"\n",
    "    for i in range(5):\n",
    "        try: \n",
    "            bets, game_title = get_game(game_url)\n",
    "            if bets:\n",
    "                break\n",
    "        except Exception as e:\n",
    "            print(f\"Attempt {i+1} failed for game {game_url}: {e}\")\n",
    "    if bets:\n",
    "        for name, odds in bets:\n",
    "            all_bets_data.append([game_title, name, float(odds)])\n",
    "\n"
   ]
  },
  {
   "cell_type": "code",
   "execution_count": 75,
   "metadata": {},
   "outputs": [
    {
     "data": {
      "text/html": [
       "<div>\n",
       "<style scoped>\n",
       "    .dataframe tbody tr th:only-of-type {\n",
       "        vertical-align: middle;\n",
       "    }\n",
       "\n",
       "    .dataframe tbody tr th {\n",
       "        vertical-align: top;\n",
       "    }\n",
       "\n",
       "    .dataframe thead th {\n",
       "        text-align: right;\n",
       "    }\n",
       "</style>\n",
       "<table border=\"1\" class=\"dataframe\">\n",
       "  <thead>\n",
       "    <tr style=\"text-align: right;\">\n",
       "      <th></th>\n",
       "      <th>Game Title</th>\n",
       "      <th>Result</th>\n",
       "      <th>Odds</th>\n",
       "    </tr>\n",
       "  </thead>\n",
       "  <tbody>\n",
       "    <tr>\n",
       "      <th>1</th>\n",
       "      <td>Deutschland – Schottland</td>\n",
       "      <td>2:0</td>\n",
       "      <td>5.11</td>\n",
       "    </tr>\n",
       "    <tr>\n",
       "      <th>0</th>\n",
       "      <td>Deutschland – Schottland</td>\n",
       "      <td>1:0</td>\n",
       "      <td>5.84</td>\n",
       "    </tr>\n",
       "    <tr>\n",
       "      <th>3</th>\n",
       "      <td>Deutschland – Schottland</td>\n",
       "      <td>3:0</td>\n",
       "      <td>6.54</td>\n",
       "    </tr>\n",
       "  </tbody>\n",
       "</table>\n",
       "</div>"
      ],
      "text/plain": [
       "                 Game Title Result  Odds\n",
       "1  Deutschland – Schottland    2:0  5.11\n",
       "0  Deutschland – Schottland    1:0  5.84\n",
       "3  Deutschland – Schottland    3:0  6.54"
      ]
     },
     "metadata": {},
     "output_type": "display_data"
    }
   ],
   "source": [
    "df = pd.DataFrame(all_bets_data, columns=[\"Game Title\", \"Result\", \"Odds\"])\n",
    "# Sort the DataFrame by game title and odds\n",
    "df_sorted = df.sort_values(by=[\"Game Title\", \"Odds\"])\n",
    "\n",
    "# Keep only the 3 lowest odds for each game title\n",
    "df_filtered = df_sorted.groupby(\"Game Title\").head(3)\n",
    "\n",
    "# Display the filtered DataFrame\n",
    "display(df_filtered)\n",
    "\n"
   ]
  }
 ],
 "metadata": {
  "kernelspec": {
   "display_name": "Python 3",
   "language": "python",
   "name": "python3"
  },
  "language_info": {
   "codemirror_mode": {
    "name": "ipython",
    "version": 3
   },
   "file_extension": ".py",
   "mimetype": "text/x-python",
   "name": "python",
   "nbconvert_exporter": "python",
   "pygments_lexer": "ipython3",
   "version": "3.11.5"
  }
 },
 "nbformat": 4,
 "nbformat_minor": 2
}
